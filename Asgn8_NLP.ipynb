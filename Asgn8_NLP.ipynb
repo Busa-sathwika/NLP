{
  "nbformat": 4,
  "nbformat_minor": 0,
  "metadata": {
    "colab": {
      "provenance": [],
      "authorship_tag": "ABX9TyOG1L0bDyCcE68VqyGGPxEF",
      "include_colab_link": true
    },
    "kernelspec": {
      "name": "python3",
      "display_name": "Python 3"
    },
    "language_info": {
      "name": "python"
    }
  },
  "cells": [
    {
      "cell_type": "markdown",
      "metadata": {
        "id": "view-in-github",
        "colab_type": "text"
      },
      "source": [
        "<a href=\"https://colab.research.google.com/github/Busa-sathwika/NLP/blob/main/Asgn8_NLP.ipynb\" target=\"_parent\"><img src=\"https://colab.research.google.com/assets/colab-badge.svg\" alt=\"Open In Colab\"/></a>"
      ]
    },
    {
      "cell_type": "markdown",
      "source": [
        "# Example text data (you can replace this with any larger corpus) text = \"\"\" Once upon a time, there was a little girl named Red Riding Hood. She loved to visit her grandmother, who lived in the woods. One day, her mother asked her to take a basket of goodies to her grandmother. On her way through the woods, she met a big bad wolf who wanted to eat her."
      ],
      "metadata": {
        "id": "BBzYQYu7rUeE"
      }
    },
    {
      "cell_type": "markdown",
      "source": [
        "(i) Build the Transformer Model on above dataset"
      ],
      "metadata": {
        "id": "sV8Hiik5rh31"
      }
    },
    {
      "cell_type": "code",
      "execution_count": 1,
      "metadata": {
        "id": "tBWcdn_tpsHe"
      },
      "outputs": [],
      "source": [
        "import torch\n",
        "from torch.utils.data import Dataset, DataLoader\n",
        "import numpy as np\n",
        "from collections import Counter\n",
        "import string\n",
        "\n",
        "# Sample text data\n",
        "text = \"\"\"Once upon a time, there was a little girl named Red Riding Hood. She loved to visit her grandmother, who lived in the woods. One day, her mother asked her to take a basket of goodies to her grandmother. On her way through the woods, she met a big bad wolf who wanted to eat her.\"\"\"\n",
        "\n",
        "# Tokenize and clean the text\n",
        "def clean_text(text):\n",
        "    text = text.lower()  # Convert text to lowercase\n",
        "    text = text.translate(str.maketrans('', '', string.punctuation))  # Remove punctuation\n",
        "    return text.split()\n",
        "\n",
        "# Tokenize text\n",
        "tokens = clean_text(text)\n",
        "\n",
        "# Create vocabulary (mapping from words to indices)\n",
        "word_counts = Counter(tokens)\n",
        "vocab = {word: idx for idx, (word, _) in enumerate(word_counts.items())}\n",
        "reverse_vocab = {idx: word for word, idx in vocab.items()}\n",
        "\n",
        "# Convert tokens to indices\n",
        "token_indices = [vocab[word] for word in tokens]\n",
        "\n",
        "class TextDataset(Dataset):\n",
        "    def __init__(self, data, seq_len):\n",
        "        self.data = data\n",
        "        self.seq_len = seq_len\n",
        "\n",
        "    def __len__(self):\n",
        "        return len(self.data) - self.seq_len\n",
        "\n",
        "    def __getitem__(self, idx):\n",
        "        x = torch.tensor(self.data[idx:idx+self.seq_len])\n",
        "        y = torch.tensor(self.data[idx+1:idx+self.seq_len+1])\n",
        "        return x, y\n",
        "\n",
        "# Hyperparameters\n",
        "seq_len = 10\n",
        "dataset = TextDataset(token_indices, seq_len)\n",
        "dataloader = DataLoader(dataset, batch_size=2, shuffle=True)\n"
      ]
    },
    {
      "cell_type": "markdown",
      "source": [
        "Model Architecture:"
      ],
      "metadata": {
        "id": "V2ntjqr5sTWs"
      }
    },
    {
      "cell_type": "code",
      "source": [
        "import torch.nn as nn\n",
        "\n",
        "class TransformerModel(nn.Module):\n",
        "    def __init__(self, vocab_size, embed_size, num_heads, num_layers, seq_len, hidden_size):\n",
        "        super(TransformerModel, self).__init__()\n",
        "\n",
        "        self.embed = nn.Embedding(vocab_size, embed_size)\n",
        "        self.transformer = nn.Transformer(\n",
        "            d_model=embed_size,\n",
        "            nhead=num_heads,\n",
        "            num_encoder_layers=num_layers,\n",
        "            num_decoder_layers=num_layers,\n",
        "            dim_feedforward=hidden_size\n",
        "        )\n",
        "        self.fc_out = nn.Linear(embed_size, vocab_size)\n",
        "        self.seq_len = seq_len\n",
        "\n",
        "    def forward(self, x):\n",
        "        x = self.embed(x)  # Shape: [batch_size, seq_len, embed_size]\n",
        "        x = x.permute(1, 0, 2)  # Transformer expects [seq_len, batch_size, embed_size]\n",
        "        x = self.transformer(x, x)  # Use the same input as both source and target\n",
        "        x = x.permute(1, 0, 2)  # [batch_size, seq_len, embed_size]\n",
        "        x = self.fc_out(x)\n",
        "        return x\n",
        "\n",
        "# Instantiate the model\n",
        "vocab_size = len(vocab)\n",
        "embed_size = 128\n",
        "num_heads = 8\n",
        "num_layers = 6\n",
        "hidden_size = 512\n",
        "\n",
        "model = TransformerModel(vocab_size, embed_size, num_heads, num_layers, seq_len, hidden_size)\n"
      ],
      "metadata": {
        "colab": {
          "base_uri": "https://localhost:8080/"
        },
        "id": "NoL-Al_1p4X2",
        "outputId": "2fe3f68c-f8e5-4fd3-8d91-bdf5c3ed1772"
      },
      "execution_count": 2,
      "outputs": [
        {
          "output_type": "stream",
          "name": "stderr",
          "text": [
            "/usr/local/lib/python3.10/dist-packages/torch/nn/modules/transformer.py:379: UserWarning: enable_nested_tensor is True, but self.use_nested_tensor is False because encoder_layer.self_attn.batch_first was not True(use batch_first for better inference performance)\n",
            "  warnings.warn(\n"
          ]
        }
      ]
    },
    {
      "cell_type": "markdown",
      "source": [
        "(ii) Train the model using 20, 60, 70 epochs"
      ],
      "metadata": {
        "id": "QRDvH6OWsNGx"
      }
    },
    {
      "cell_type": "code",
      "source": [
        "import torch.optim as optim\n",
        "\n",
        "# Hyperparameters\n",
        "epochs = 20\n",
        "learning_rate = 0.001\n",
        "criterion = nn.CrossEntropyLoss()\n",
        "optimizer = optim.Adam(model.parameters(), lr=learning_rate)\n",
        "\n",
        "# Training loop\n",
        "def train(model, dataloader, epochs):\n",
        "    for epoch in range(epochs):\n",
        "        model.train()\n",
        "        total_loss = 0\n",
        "        for x_batch, y_batch in dataloader:\n",
        "            optimizer.zero_grad()\n",
        "            output = model(x_batch)  # Get predictions\n",
        "            loss = criterion(output.view(-1, vocab_size), y_batch.view(-1))  # Compute loss\n",
        "            loss.backward()\n",
        "            optimizer.step()\n",
        "            total_loss += loss.item()\n",
        "\n",
        "        print(f'Epoch [{epoch+1}/{epochs}], Loss: {total_loss / len(dataloader):.4f}')\n",
        "\n",
        "train(model, dataloader, epochs=20)  # Training for 20 epochs\n"
      ],
      "metadata": {
        "colab": {
          "base_uri": "https://localhost:8080/"
        },
        "id": "zK6Gs3Dep9Q4",
        "outputId": "1673dc9e-ceec-4eff-acb3-e554ab2d716b"
      },
      "execution_count": 3,
      "outputs": [
        {
          "output_type": "stream",
          "name": "stdout",
          "text": [
            "Epoch [1/20], Loss: 3.6344\n",
            "Epoch [2/20], Loss: 3.5129\n",
            "Epoch [3/20], Loss: 3.4692\n",
            "Epoch [4/20], Loss: 3.3367\n",
            "Epoch [5/20], Loss: 3.2799\n",
            "Epoch [6/20], Loss: 3.2440\n",
            "Epoch [7/20], Loss: 3.3320\n",
            "Epoch [8/20], Loss: 3.3150\n",
            "Epoch [9/20], Loss: 3.3030\n",
            "Epoch [10/20], Loss: 3.2605\n",
            "Epoch [11/20], Loss: 3.1596\n",
            "Epoch [12/20], Loss: 3.3501\n",
            "Epoch [13/20], Loss: 3.3134\n",
            "Epoch [14/20], Loss: 3.2808\n",
            "Epoch [15/20], Loss: 3.2804\n",
            "Epoch [16/20], Loss: 3.2848\n",
            "Epoch [17/20], Loss: 3.2757\n",
            "Epoch [18/20], Loss: 3.2675\n",
            "Epoch [19/20], Loss: 3.2745\n",
            "Epoch [20/20], Loss: 3.2618\n"
          ]
        }
      ]
    },
    {
      "cell_type": "markdown",
      "source": [
        "(iii) After training, use the model to generate new text by feeding it an initial seed text"
      ],
      "metadata": {
        "id": "CeumRiOAsCZk"
      }
    },
    {
      "cell_type": "code",
      "source": [
        "# Add '<unk>' token to the vocabulary\n",
        "UNK_TOKEN = '<unk>'\n",
        "vocab = {word: idx + 1 for idx, (word, _) in enumerate(word_counts.items())}  # Start from 1\n",
        "vocab[UNK_TOKEN] = 0  # Assign 0 to '<unk>' token\n",
        "reverse_vocab = {idx: word for word, idx in vocab.items()}\n"
      ],
      "metadata": {
        "id": "NXW3iiVmqUfU"
      },
      "execution_count": 4,
      "outputs": []
    },
    {
      "cell_type": "code",
      "source": [
        "import torch\n",
        "import random\n",
        "import numpy as np\n",
        "\n",
        "def generate_text(model, seed_text, length=50, temperature=1.0, top_k=50, top_p=0.9):\n",
        "    model.eval()\n",
        "\n",
        "    # Preprocess the seed text\n",
        "    seed_tokens = clean_text(seed_text)\n",
        "    seed_indices = [vocab.get(word, vocab['<unk>']) for word in seed_tokens]  # Convert to indices\n",
        "    input_tensor = torch.tensor(seed_indices).unsqueeze(0)  # Add batch dimension\n",
        "\n",
        "    generated = seed_tokens.copy()\n",
        "\n",
        "    # Define a function for temperature scaling\n",
        "    def temperature_sampling(logits, temperature):\n",
        "        logits = logits / temperature\n",
        "        probabilities = torch.nn.functional.softmax(logits, dim=-1)\n",
        "        return probabilities\n",
        "\n",
        "    # Define a function for top-k sampling\n",
        "    def top_k_sampling(logits, k):\n",
        "        top_k_values, top_k_indices = torch.topk(logits, k)\n",
        "        probabilities = torch.nn.functional.softmax(top_k_values, dim=-1)\n",
        "        return top_k_indices, probabilities\n",
        "\n",
        "    # Define a function for top-p (nucleus) sampling\n",
        "    def top_p_sampling(logits, p):\n",
        "        sorted_logits, sorted_indices = torch.sort(logits, descending=True)\n",
        "        cumulative_probs = torch.cumsum(torch.nn.functional.softmax(sorted_logits, dim=-1), dim=-1)\n",
        "\n",
        "        # Cut off the tail of the distribution\n",
        "        sorted_indices_to_keep = cumulative_probs <= p\n",
        "        sorted_logits[~sorted_indices_to_keep] = -float('Inf')\n",
        "        probabilities = torch.nn.functional.softmax(sorted_logits, dim=-1)\n",
        "\n",
        "        return sorted_indices, probabilities\n",
        "\n",
        "    # Start generating tokens\n",
        "    for _ in range(length):\n",
        "        output = model(input_tensor)\n",
        "        logits = output[:, -1, :]  # Get the logits for the last token prediction\n",
        "\n",
        "        # Apply temperature scaling\n",
        "        logits = temperature_sampling(logits, temperature)\n",
        "\n",
        "        # Sample from top-k or top-p (nucleus) sampling\n",
        "        if top_p > 0:\n",
        "            top_indices, probabilities = top_p_sampling(logits, top_p)\n",
        "        else:\n",
        "            top_indices, probabilities = top_k_sampling(logits, top_k)\n",
        "\n",
        "        # Sample the next token from the distribution\n",
        "        next_token_idx = torch.multinomial(probabilities, 1).item()\n",
        "\n",
        "        # Get the word for the next token using the sampled index\n",
        "        next_word = reverse_vocab.get(top_indices[0, next_token_idx].item(), vocab['<unk>'])\n",
        "        generated.append(next_word)\n",
        "\n",
        "        # Update input for next iteration (use the predicted token index)\n",
        "        input_tensor = torch.cat([input_tensor[:, 1:], torch.tensor([[top_indices[0, next_token_idx]]])], dim=1)\n",
        "\n",
        "    return ' '.join(generated)\n",
        "\n",
        "\n",
        "# Example generation\n",
        "seed_text = \"Once upon a time\"\n",
        "generated_text = generate_text(model, seed_text, length=50, temperature=0.7, top_k=50, top_p=0.9)\n",
        "print(generated_text)\n"
      ],
      "metadata": {
        "colab": {
          "base_uri": "https://localhost:8080/"
        },
        "id": "eqCEWPTcqdLV",
        "outputId": "c1e671d8-ca43-4bbe-9384-c8f7599480b1"
      },
      "execution_count": 5,
      "outputs": [
        {
          "output_type": "stream",
          "name": "stdout",
          "text": [
            "once upon a time mother hood in loved girl take asked riding named woods met she upon her on the in goodies wolf her lived way upon lived riding who big who girl take little way lived day loved lived asked grandmother girl little goodies met through wanted who goodies bad goodies bad met\n"
          ]
        }
      ]
    },
    {
      "cell_type": "markdown",
      "source": [
        "(iv) Experimenting and Improving the Model by large dataset and hyper tune parameter.\n"
      ],
      "metadata": {
        "id": "0jltUw85rx2j"
      }
    },
    {
      "cell_type": "code",
      "source": [
        "from torch.optim.lr_scheduler import StepLR\n",
        "\n",
        "# Modify the TransformerModel to include dropout\n",
        "class TransformerModelWithDropout(nn.Module):\n",
        "    def __init__(self, vocab_size, embed_size, num_heads, num_layers, seq_len, hidden_size, dropout_rate=0.1):\n",
        "        super(TransformerModelWithDropout, self).__init__()\n",
        "        self.embed = nn.Embedding(vocab_size, embed_size)\n",
        "        self.transformer = nn.Transformer(\n",
        "            d_model=embed_size,\n",
        "            nhead=num_heads,\n",
        "            num_encoder_layers=num_layers,\n",
        "            num_decoder_layers=num_layers,\n",
        "            dim_feedforward=hidden_size,\n",
        "            dropout=dropout_rate  # Add dropout here\n",
        "        )\n",
        "        self.fc_out = nn.Linear(embed_size, vocab_size)\n",
        "\n",
        "# Define the scheduler\n",
        "scheduler = StepLR(optimizer, step_size=10, gamma=0.1)  # Decay learning rate by 0.1 every 10 epochs\n"
      ],
      "metadata": {
        "id": "Nq6cnKupqi8n"
      },
      "execution_count": 6,
      "outputs": []
    }
  ]
}